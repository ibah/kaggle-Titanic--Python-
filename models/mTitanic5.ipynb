{
 "cells": [
  {
   "cell_type": "markdown",
   "metadata": {},
   "source": [
    "## Kaggle - Titanic competition\n",
    "\n",
    "### Topic: fast summary of best ideas to build a running model\n",
    "\n",
    "* Models: RandomForest\n",
    "* Ensembling: none\n",
    "* Tuning: GridSearch CV\n",
    "* CV: default 3-fold\n",
    "* Inspriation: https://www.kaggle.com/zlatankr/titanic-random-forest-82-78 by Zlatan Kremonic"
   ]
  },
  {
   "cell_type": "code",
   "execution_count": 1,
   "metadata": {
    "collapsed": true
   },
   "outputs": [],
   "source": [
    "import numpy as np\n",
    "import pandas as pd\n",
    "import re\n",
    "from sklearn.model_selection import GridSearchCV\n",
    "from sklearn.ensemble import RandomForestClassifier"
   ]
  },
  {
   "cell_type": "code",
   "execution_count": 2,
   "metadata": {
    "collapsed": true
   },
   "outputs": [],
   "source": [
    "# Loading data\n",
    "train = pd.read_csv('../input/train.csv')\n",
    "test = pd.read_csv('../input/test.csv')\n",
    "train = train.drop('PassengerId', axis=1)\n",
    "train_y = train.pop('Survived')\n",
    "test_id = test.pop('PassengerId')"
   ]
  },
  {
   "cell_type": "code",
   "execution_count": 3,
   "metadata": {
    "collapsed": true
   },
   "outputs": [],
   "source": [
    "# Preprocessing\n",
    "def preprocess(df):\n",
    "    # df = all_data\n",
    "    df['Name_Length'] = df.Name.apply(len)\n",
    "    df['Name_Title'] = df.Name.apply(lambda x: re.sub('(.*, )|(\\..*)','',x))\n",
    "    df['Age_Null_Flag'] = df.Age.apply(lambda x: 1 if pd.isnull(x) else 0)\n",
    "    tmp = df.groupby(['Name_Title', 'Pclass']).Age\n",
    "    df['Age'] = tmp.transform(lambda x: x.fillna(x.mean()))\n",
    "    df.Age.fillna(df.Age.mean(), inplace=True)  # one record with NA remained, check why\n",
    "    df['Fam_Size'] = np.where((df.SibSp + df.Parch) == 0 , 'Solo',\n",
    "                     np.where((df.SibSp + df.Parch) <= 3,'Nuclear',\n",
    "                               'Big'))\n",
    "    df['Ticket_Letter'] = df.Ticket.apply(lambda x: str(x)[0])\n",
    "    df['Ticket_Letter'] = np.where(\n",
    "            df.Ticket_Letter.isin(['1', '2', '3', 'S', 'P', 'C', 'A']), df.Ticket_Letter,\n",
    "                                   np.where(df.Ticket_Letter.isin(['W', '4', '7', '6', 'L', '5', '8']),\n",
    "                                            'Low_ticket', 'Other_ticket'))\n",
    "    df['Ticket_Len'] = df.Ticket.apply(len)\n",
    "    df['Cabin_Letter'] = df.Cabin.apply(lambda x: str(x)[0])\n",
    "    df['tmp'] = df.Cabin.apply(lambda x: str(x).split(' ')[-1][1:])\n",
    "    df.tmp.replace('an', np.NaN, inplace = True)\n",
    "    df['tmp'] = df.tmp.apply(lambda x: int(x) if not pd.isnull(x) and x != '' else np.NaN)\n",
    "    df['Cabin_number'] = pd.qcut(df.tmp,3)\n",
    "    df = pd.concat((df, pd.get_dummies(df.Cabin_number, prefix = 'Cabin_number')), axis = 1)\n",
    "    df['Embarked'] = df.Embarked.fillna('S')\n",
    "    df.Fare.fillna(df.Fare.mean(), inplace = True)\n",
    "    object_columns = ['Sex', 'Embarked', 'Ticket_Letter', 'Cabin_Letter', 'Name_Title', 'Fam_Size']\n",
    "    dummies = pd.get_dummies(df[object_columns])\n",
    "    df = pd.concat([df, dummies], axis=1)\n",
    "    df.drop(object_columns, axis=1, inplace=True)\n",
    "    df.drop(['Name','SibSp','Parch','Ticket','Cabin','tmp','Cabin_number'], axis=1, inplace=True)\n",
    "    return df\n",
    "train_n = len(train)\n",
    "all_data = train.append(test)\n",
    "tmp = preprocess(all_data)\n",
    "train = tmp[:train_n]\n",
    "test = tmp[train_n:]"
   ]
  },
  {
   "cell_type": "code",
   "execution_count": 7,
   "metadata": {
    "collapsed": false
   },
   "outputs": [
    {
     "data": {
      "text/plain": [
       "GridSearchCV(cv=None, error_score='raise',\n",
       "       estimator=RandomForestClassifier(bootstrap=True, class_weight=None, criterion='gini',\n",
       "            max_depth=None, max_features='auto', max_leaf_nodes=None,\n",
       "            min_impurity_split=1e-07, min_samples_leaf=1,\n",
       "            min_samples_split=2, min_weight_fraction_leaf=0.0,\n",
       "            n_estimators=10, n_jobs=-1, oob_score=False, random_state=None,\n",
       "            verbose=0, warm_start=False),\n",
       "       fit_params={}, iid=True, n_jobs=-1,\n",
       "       param_grid={'min_samples_leaf': [1, 5, 10], 'n_estimators': [500, 800, 1200], 'min_samples_split': [2, 5, 10, 15]},\n",
       "       pre_dispatch='2*n_jobs', refit=True, return_train_score=True,\n",
       "       scoring=None, verbose=0)"
      ]
     },
     "execution_count": 7,
     "metadata": {},
     "output_type": "execute_result"
    }
   ],
   "source": [
    "# Model tuning and fitting\n",
    "rf = RandomForestClassifier(n_jobs=-1)\n",
    "params = {\"min_samples_leaf\" : [1, 5, 10],\n",
    "         \"min_samples_split\" : [2, 5, 10, 15],\n",
    "         \"n_estimators\": [500, 800, 1200]}\n",
    "gs = GridSearchCV(rf, params, n_jobs=-1)\n",
    "gs.fit(train, train_y)"
   ]
  },
  {
   "cell_type": "code",
   "execution_count": 8,
   "metadata": {
    "collapsed": false
   },
   "outputs": [
    {
     "name": "stdout",
     "output_type": "stream",
     "text": [
      "0.842873176207\n",
      "{'min_samples_leaf': 1, 'n_estimators': 1200, 'min_samples_split': 5}\n"
     ]
    }
   ],
   "source": [
    "# Results\n",
    "print(gs.best_score_)\n",
    "print(gs.best_params_)"
   ]
  },
  {
   "cell_type": "code",
   "execution_count": 9,
   "metadata": {
    "collapsed": true
   },
   "outputs": [],
   "source": [
    "# Making predictions\n",
    "pred = gs.predict(test)\n",
    "pred = pd.DataFrame({'PassengerId': test_id, 'Survived': pred})\n",
    "pred.to_csv('submission.csv', index = False)"
   ]
  }
 ],
 "metadata": {
  "kernelspec": {
   "display_name": "Python [Root]",
   "language": "python",
   "name": "Python [Root]"
  },
  "language_info": {
   "codemirror_mode": {
    "name": "ipython",
    "version": 3
   },
   "file_extension": ".py",
   "mimetype": "text/x-python",
   "name": "python",
   "nbconvert_exporter": "python",
   "pygments_lexer": "ipython3",
   "version": "3.5.2"
  }
 },
 "nbformat": 4,
 "nbformat_minor": 2
}
